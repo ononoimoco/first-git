{
  "nbformat": 4,
  "nbformat_minor": 0,
  "metadata": {
    "colab": {
      "name": "morebetterstyle.ipynb",
      "provenance": [],
      "collapsed_sections": [],
      "include_colab_link": true
    },
    "kernelspec": {
      "name": "python3",
      "display_name": "Python 3"
    },
    "accelerator": "GPU"
  },
  "cells": [
    {
      "cell_type": "markdown",
      "metadata": {
        "id": "view-in-github",
        "colab_type": "text"
      },
      "source": [
        "<a href=\"https://colab.research.google.com/github/ononoimoco/first-git/blob/master/morebetterstyle.ipynb\" target=\"_parent\"><img src=\"https://colab.research.google.com/assets/colab-badge.svg\" alt=\"Open In Colab\"/></a>"
      ]
    },
    {
      "cell_type": "code",
      "metadata": {
        "id": "2iSzMZoo14gg",
        "colab_type": "code",
        "outputId": "90fc6ced-724d-442f-dac1-d18df7a3b5c3",
        "colab": {
          "base_uri": "https://localhost:8080/",
          "height": 139
        }
      },
      "source": [
        "from google.colab import drive\n",
        "drive.mount('/content/drive')\n",
        "!ls 'drive/'\n"
      ],
      "execution_count": 0,
      "outputs": [
        {
          "output_type": "stream",
          "text": [
            "Go to this URL in a browser: https://accounts.google.com/o/oauth2/auth?client_id=947318989803-6bn6qk8qdgf4n4g3pfee6491hc0brc4i.apps.googleusercontent.com&redirect_uri=urn%3Aietf%3Awg%3Aoauth%3A2.0%3Aoob&scope=email%20https%3A%2F%2Fwww.googleapis.com%2Fauth%2Fdocs.test%20https%3A%2F%2Fwww.googleapis.com%2Fauth%2Fdrive%20https%3A%2F%2Fwww.googleapis.com%2Fauth%2Fdrive.photos.readonly%20https%3A%2F%2Fwww.googleapis.com%2Fauth%2Fpeopleapi.readonly&response_type=code\n",
            "\n",
            "Enter your authorization code:\n",
            "··········\n",
            "Mounted at /content/drive\n",
            "'My Drive'\n"
          ],
          "name": "stdout"
        }
      ]
    },
    {
      "cell_type": "code",
      "metadata": {
        "id": "fU7gHg3Q2Nli",
        "colab_type": "code",
        "outputId": "a304a7e1-fb14-4b22-adb5-4d6acebedaf7",
        "colab": {
          "base_uri": "https://localhost:8080/",
          "height": 34
        }
      },
      "source": [
        "!ls 'drive/My Drive/longterm/development/data/'"
      ],
      "execution_count": 0,
      "outputs": [
        {
          "output_type": "stream",
          "text": [
            "ウェーブ  ストレート  ナチュラル\n"
          ],
          "name": "stdout"
        }
      ]
    },
    {
      "cell_type": "code",
      "metadata": {
        "id": "IS-jnGVnlDHt",
        "colab_type": "code",
        "colab": {}
      },
      "source": [
        "path = 'drive/My Drive/longterm/development/data'"
      ],
      "execution_count": 0,
      "outputs": []
    },
    {
      "cell_type": "code",
      "metadata": {
        "id": "DvRSzlJ8lqrs",
        "colab_type": "code",
        "colab": {}
      },
      "source": [
        "from glob import glob\n",
        "folders = sorted(glob('{}/*'.format(path)))"
      ],
      "execution_count": 0,
      "outputs": []
    },
    {
      "cell_type": "code",
      "metadata": {
        "id": "IRKJmA4mJd3v",
        "colab_type": "code",
        "outputId": "09213442-f179-4e03-db9f-9984bba095d3",
        "colab": {
          "base_uri": "https://localhost:8080/",
          "height": 68
        }
      },
      "source": [
        "folders"
      ],
      "execution_count": 0,
      "outputs": [
        {
          "output_type": "execute_result",
          "data": {
            "text/plain": [
              "['drive/My Drive/longterm/development/data/ウェーブ',\n",
              " 'drive/My Drive/longterm/development/data/ストレート',\n",
              " 'drive/My Drive/longterm/development/data/ナチュラル']"
            ]
          },
          "metadata": {
            "tags": []
          },
          "execution_count": 5
        }
      ]
    },
    {
      "cell_type": "code",
      "metadata": {
        "id": "p7Bc0bRtF-N4",
        "colab_type": "code",
        "colab": {}
      },
      "source": [
        "import sys"
      ],
      "execution_count": 0,
      "outputs": []
    },
    {
      "cell_type": "code",
      "metadata": {
        "id": "k4uWPL1BGBBh",
        "colab_type": "code",
        "outputId": "a52db72a-9b48-4acd-f255-2eca6d0f3e12",
        "colab": {
          "base_uri": "https://localhost:8080/",
          "height": 34
        }
      },
      "source": [
        "print('Hello, Colaboratory from Python {}!'.format(sys.version_info[0]))"
      ],
      "execution_count": 0,
      "outputs": [
        {
          "output_type": "stream",
          "text": [
            "Hello, Colaboratory from Python 3!\n"
          ],
          "name": "stdout"
        }
      ]
    },
    {
      "cell_type": "code",
      "metadata": {
        "id": "PjZYjfafGEFo",
        "colab_type": "code",
        "outputId": "67db898c-884e-4e32-f803-7f6df8f98197",
        "colab": {
          "base_uri": "https://localhost:8080/",
          "height": 51
        }
      },
      "source": [
        "from google.colab import drive\n",
        "drive.mount('/content/drive')\n",
        "!ls 'drive/'"
      ],
      "execution_count": 0,
      "outputs": [
        {
          "output_type": "stream",
          "text": [
            "Drive already mounted at /content/drive; to attempt to forcibly remount, call drive.mount(\"/content/drive\", force_remount=True).\n",
            "'My Drive'\n"
          ],
          "name": "stdout"
        }
      ]
    },
    {
      "cell_type": "code",
      "metadata": {
        "id": "H8Dct-04GMVD",
        "colab_type": "code",
        "outputId": "3cda402f-f331-4ecd-cfbf-e6e44b6df16c",
        "colab": {
          "base_uri": "https://localhost:8080/",
          "height": 34
        }
      },
      "source": [
        "!ls 'drive/My Drive/longterm/development/'"
      ],
      "execution_count": 0,
      "outputs": [
        {
          "output_type": "stream",
          "text": [
            "data  result\n"
          ],
          "name": "stdout"
        }
      ]
    },
    {
      "cell_type": "code",
      "metadata": {
        "id": "ocewEQDyMVZV",
        "colab_type": "code",
        "colab": {}
      },
      "source": [
        "path = 'drive/My Drive/longterm/development'"
      ],
      "execution_count": 0,
      "outputs": []
    },
    {
      "cell_type": "code",
      "metadata": {
        "id": "U0moqW33GjhX",
        "colab_type": "code",
        "colab": {}
      },
      "source": [
        "import numpy as np\n",
        "import cv2"
      ],
      "execution_count": 0,
      "outputs": []
    },
    {
      "cell_type": "code",
      "metadata": {
        "id": "-xmy20gcG-qg",
        "colab_type": "code",
        "colab": {}
      },
      "source": [
        "filepaths, x, t= [], [], []\n",
        "for i, folder in enumerate(folders):\n",
        "    filepaths = glob('{}/*'.format(folder))\n",
        "    for filepath in filepaths:\n",
        "        try:\n",
        "            img = cv2.imread(filepath)\n",
        "            img = cv2.cvtColor(img, cv2.COLOR_BGR2RGB)\n",
        "            img = cv2.resize(img, (224, 224))\n",
        "            img = img.astype('f').transpose(2,0,1)\n",
        "            x.append(img)\n",
        "            t.append(np.array(i, 'i'))\n",
        "        except Exception as e:\n",
        "            print(e, filepath, 'error')"
      ],
      "execution_count": 0,
      "outputs": []
    },
    {
      "cell_type": "code",
      "metadata": {
        "id": "NMrQVHjJHEeJ",
        "colab_type": "code",
        "colab": {}
      },
      "source": [
        "from chainer.datasets import TupleDataset"
      ],
      "execution_count": 0,
      "outputs": []
    },
    {
      "cell_type": "code",
      "metadata": {
        "id": "IGxqSLQ1HHcD",
        "colab_type": "code",
        "colab": {}
      },
      "source": [
        "dataset = TupleDataset(x,t)"
      ],
      "execution_count": 0,
      "outputs": []
    },
    {
      "cell_type": "code",
      "metadata": {
        "id": "Zrbkxi04HKOY",
        "colab_type": "code",
        "colab": {}
      },
      "source": [
        "from chainer.datasets import split_dataset_random\n",
        "n_train = int(len(dataset)*0.6)\n",
        "train_val,test = split_dataset_random(dataset,n_train,seed=0)\n",
        "n_train = int(len(train_val)*0.6)\n",
        "train,valid = split_dataset_random(train_val,n_train,seed=0)"
      ],
      "execution_count": 0,
      "outputs": []
    },
    {
      "cell_type": "code",
      "metadata": {
        "id": "SyklliGEHP4P",
        "colab_type": "code",
        "outputId": "4c7c1aac-ea82-4929-df2b-1aac1a1e802d",
        "colab": {
          "base_uri": "https://localhost:8080/",
          "height": 34
        }
      },
      "source": [
        "len(train)"
      ],
      "execution_count": 0,
      "outputs": [
        {
          "output_type": "execute_result",
          "data": {
            "text/plain": [
              "76"
            ]
          },
          "metadata": {
            "tags": []
          },
          "execution_count": 16
        }
      ]
    },
    {
      "cell_type": "code",
      "metadata": {
        "id": "VpcvuLN0NKgG",
        "colab_type": "code",
        "outputId": "427063f5-c23b-4897-9c6f-65523ebf42f8",
        "colab": {
          "base_uri": "https://localhost:8080/",
          "height": 34
        }
      },
      "source": [
        "len(valid)"
      ],
      "execution_count": 0,
      "outputs": [
        {
          "output_type": "execute_result",
          "data": {
            "text/plain": [
              "51"
            ]
          },
          "metadata": {
            "tags": []
          },
          "execution_count": 17
        }
      ]
    },
    {
      "cell_type": "code",
      "metadata": {
        "id": "pqpD_gkTNKY7",
        "colab_type": "code",
        "outputId": "24a9b96e-9f1d-4ec3-931e-935d1a2f6618",
        "colab": {
          "base_uri": "https://localhost:8080/",
          "height": 34
        }
      },
      "source": [
        "len(test)"
      ],
      "execution_count": 0,
      "outputs": [
        {
          "output_type": "execute_result",
          "data": {
            "text/plain": [
              "85"
            ]
          },
          "metadata": {
            "tags": []
          },
          "execution_count": 18
        }
      ]
    },
    {
      "cell_type": "code",
      "metadata": {
        "id": "xJcog6fdNKTR",
        "colab_type": "code",
        "colab": {}
      },
      "source": [
        "import chainer\n",
        "import chainer.links as L\n",
        "import chainer.functions as F\n",
        "import random\n",
        "import numpy as np"
      ],
      "execution_count": 0,
      "outputs": []
    },
    {
      "cell_type": "code",
      "metadata": {
        "id": "zDKcQe4BPPhU",
        "colab_type": "code",
        "colab": {}
      },
      "source": [
        "class CNN(chainer.Chain):\n",
        "\n",
        "    def __init__(self, n_mids=40, n_out=20):\n",
        "        super().__init__()\n",
        "        with self.init_scope():\n",
        "            self.conv1 = L.Convolution2D(in_channels=3, out_channels=32, ksize=3, pad=1)\n",
        "            self.conv2 = L.Convolution2D(in_channels=32, out_channels=64, ksize=3, pad=1)\n",
        "            self.fc1 = L.Linear(None, n_mids)\n",
        "            self.fc2 = L.Linear(None, n_out)\n",
        "            self.bn1 = L.BatchNormalization(3)\n",
        "            self.bn2 = L.BatchNormalization(32)\n",
        "\n",
        "    def __call__(self, x):\n",
        "        h = self.bn1(x)\n",
        "        h = F.relu(self.conv1(h))\n",
        "        h = F.max_pooling_2d(h, 3, 3)\n",
        "        h = self.bn2(h)\n",
        "        h = F.relu(self.conv2(h))\n",
        "        h = F.max_pooling_2d(h, 3, 3)\n",
        "        h = self.fc1(h)\n",
        "        h = self.fc2(h)\n",
        "        return h"
      ],
      "execution_count": 0,
      "outputs": []
    },
    {
      "cell_type": "code",
      "metadata": {
        "id": "Sdt3FQewQrN6",
        "colab_type": "code",
        "colab": {}
      },
      "source": [
        "def reset_seed(seed=0):\n",
        "  random.seed(seed)\n",
        "  np.random.seed(seed)\n",
        "  if chainer.cuda.available:\n",
        "    chainer.cuda.cupy.random.seed(seed)"
      ],
      "execution_count": 0,
      "outputs": []
    },
    {
      "cell_type": "code",
      "metadata": {
        "id": "SmCzWMGoREbK",
        "colab_type": "code",
        "colab": {}
      },
      "source": [
        "reset_seed(0)"
      ],
      "execution_count": 0,
      "outputs": []
    },
    {
      "cell_type": "code",
      "metadata": {
        "id": "ezI4jBOjRGID",
        "colab_type": "code",
        "colab": {}
      },
      "source": [
        "gpu_id = 0\n",
        "model = L.Classifier(CNN())"
      ],
      "execution_count": 0,
      "outputs": []
    },
    {
      "cell_type": "code",
      "metadata": {
        "id": "bM-LonD5RYYb",
        "colab_type": "code",
        "outputId": "206b62f9-aa53-4470-bacc-fb34b45f78cb",
        "colab": {
          "base_uri": "https://localhost:8080/",
          "height": 34
        }
      },
      "source": [
        "optimizer = chainer.optimizers.Adam()\n",
        "optimizer.setup(model)\n",
        "model.to_gpu(gpu_id)\n"
      ],
      "execution_count": 0,
      "outputs": [
        {
          "output_type": "execute_result",
          "data": {
            "text/plain": [
              "<chainer.links.model.classifier.Classifier at 0x7f429a051b70>"
            ]
          },
          "metadata": {
            "tags": []
          },
          "execution_count": 24
        }
      ]
    },
    {
      "cell_type": "code",
      "metadata": {
        "id": "g5MeA-4AWVRH",
        "colab_type": "code",
        "colab": {}
      },
      "source": [
        "batchsize = 20\n",
        "train_iter = chainer.iterators.SerialIterator(train, batchsize)\n",
        "valid_iter = chainer.iterators.SerialIterator(valid, batchsize, repeat=False, shuffle=False)"
      ],
      "execution_count": 0,
      "outputs": []
    },
    {
      "cell_type": "code",
      "metadata": {
        "id": "ITcyc1T5W8cx",
        "colab_type": "code",
        "colab": {}
      },
      "source": [
        "epoch = 20\n",
        "updater = chainer.training.StandardUpdater(train_iter,optimizer,device = gpu_id)"
      ],
      "execution_count": 0,
      "outputs": []
    },
    {
      "cell_type": "code",
      "metadata": {
        "id": "Tdl4mQpQXJE2",
        "colab_type": "code",
        "colab": {}
      },
      "source": [
        "from chainer.training import extensions\n",
        "trainer = chainer.training.Trainer(updater, ( epoch,'epoch'),out='{}/result'.format(path))\n",
        "\n",
        "trainer.extend(extensions.Evaluator(valid_iter,model,device=gpu_id))"
      ],
      "execution_count": 0,
      "outputs": []
    },
    {
      "cell_type": "code",
      "metadata": {
        "id": "hr2-BNHjXmWD",
        "colab_type": "code",
        "colab": {}
      },
      "source": [
        "trainer.extend(extensions.LogReport(log_name='log_simplecnn'))\n",
        "trainer.extend(extensions.PrintReport(['epoch','elapsed_time','validation/main/loss','main/accuracy','validation/main/accuracy']), trigger=(1, 'epoch'))"
      ],
      "execution_count": 0,
      "outputs": []
    },
    {
      "cell_type": "code",
      "metadata": {
        "id": "NmiAMV4sYhC_",
        "colab_type": "code",
        "outputId": "0858b724-d75f-46af-8edf-75c5693319af",
        "colab": {
          "base_uri": "https://localhost:8080/",
          "height": 374
        }
      },
      "source": [
        "trainer.run()"
      ],
      "execution_count": 0,
      "outputs": [
        {
          "output_type": "stream",
          "text": [
            "epoch       elapsed_time  validation/main/loss  main/accuracy  validation/main/accuracy\n",
            "\u001b[J1           8.417         90.4587               0.325          0.421212                  \n",
            "\u001b[J2           8.71739       43.4075               0.7375         0.421212                  \n",
            "\u001b[J3           8.98134       14.6865               0.725          0.387879                  \n",
            "\u001b[J4           9.25253       6.22681               0.6375         0.537879                  \n",
            "\u001b[J5           9.45496       8.16039               0.883333       0.457576                  \n",
            "\u001b[J6           9.70461       6.46411               0.8875         0.551515                  \n",
            "\u001b[J7           9.95433       7.93827               0.8875         0.634849                  \n",
            "\u001b[J8           10.2003       6.00639               0.9            0.518182                  \n",
            "\u001b[J9           10.452        6.76812               0.9125         0.507576                  \n",
            "\u001b[J10          10.6539       4.99601               0.966667       0.390909                  \n",
            "\u001b[J11          10.8975       6.8857                0.9125         0.471212                  \n",
            "\u001b[J12          11.153        7.19859               0.925          0.404545                  \n",
            "\u001b[J13          11.4186       5.71942               0.9375         0.490909                  \n",
            "\u001b[J14          11.6656       6.69021               0.9625         0.554545                  \n",
            "\u001b[J15          11.8662       6.21698               0.983333       0.584848                  \n",
            "\u001b[J16          12.1128       7.36884               0.975          0.474242                  \n",
            "\u001b[J17          12.3707       6.89474               0.9875         0.584848                  \n",
            "\u001b[J18          12.6146       8.21868               0.9875         0.587879                  \n",
            "\u001b[J19          12.8679       8.43236               0.9875         0.571212                  \n",
            "\u001b[J20          13.0684       7.7497                0.983333       0.587879                  \n"
          ],
          "name": "stdout"
        }
      ]
    },
    {
      "cell_type": "code",
      "metadata": {
        "id": "ONXUJ9eCYtkx",
        "colab_type": "code",
        "outputId": "1c820dc7-ff5f-4510-af9e-d008e2bd1ccc",
        "colab": {
          "base_uri": "https://localhost:8080/",
          "height": 289
        }
      },
      "source": [
        "!nvidia-smi"
      ],
      "execution_count": 0,
      "outputs": [
        {
          "output_type": "stream",
          "text": [
            "Sat Sep 21 10:25:00 2019       \n",
            "+-----------------------------------------------------------------------------+\n",
            "| NVIDIA-SMI 430.40       Driver Version: 418.67       CUDA Version: 10.1     |\n",
            "|-------------------------------+----------------------+----------------------+\n",
            "| GPU  Name        Persistence-M| Bus-Id        Disp.A | Volatile Uncorr. ECC |\n",
            "| Fan  Temp  Perf  Pwr:Usage/Cap|         Memory-Usage | GPU-Util  Compute M. |\n",
            "|===============================+======================+======================|\n",
            "|   0  Tesla K80           Off  | 00000000:00:04.0 Off |                    0 |\n",
            "| N/A   76C    P0    87W / 149W |    701MiB / 11441MiB |      0%      Default |\n",
            "+-------------------------------+----------------------+----------------------+\n",
            "                                                                               \n",
            "+-----------------------------------------------------------------------------+\n",
            "| Processes:                                                       GPU Memory |\n",
            "|  GPU       PID   Type   Process name                             Usage      |\n",
            "|=============================================================================|\n",
            "+-----------------------------------------------------------------------------+\n"
          ],
          "name": "stdout"
        }
      ]
    },
    {
      "cell_type": "code",
      "metadata": {
        "id": "hYYsCkqSZCzl",
        "colab_type": "code",
        "outputId": "32631f8c-eb24-435b-d78d-df9edcab1f85",
        "colab": {
          "base_uri": "https://localhost:8080/",
          "height": 204
        }
      },
      "source": [
        "import json\n",
        "import pandas as pd\n",
        "with open('{}/result/log_simplecnn'.format(path)) as f:\n",
        "  result = pd.DataFrame(json.load(f))\n",
        "result.tail(5)"
      ],
      "execution_count": 0,
      "outputs": [
        {
          "output_type": "execute_result",
          "data": {
            "text/html": [
              "<div>\n",
              "<style scoped>\n",
              "    .dataframe tbody tr th:only-of-type {\n",
              "        vertical-align: middle;\n",
              "    }\n",
              "\n",
              "    .dataframe tbody tr th {\n",
              "        vertical-align: top;\n",
              "    }\n",
              "\n",
              "    .dataframe thead th {\n",
              "        text-align: right;\n",
              "    }\n",
              "</style>\n",
              "<table border=\"1\" class=\"dataframe\">\n",
              "  <thead>\n",
              "    <tr style=\"text-align: right;\">\n",
              "      <th></th>\n",
              "      <th>elapsed_time</th>\n",
              "      <th>epoch</th>\n",
              "      <th>iteration</th>\n",
              "      <th>main/accuracy</th>\n",
              "      <th>main/loss</th>\n",
              "      <th>validation/main/accuracy</th>\n",
              "      <th>validation/main/loss</th>\n",
              "    </tr>\n",
              "  </thead>\n",
              "  <tbody>\n",
              "    <tr>\n",
              "      <th>15</th>\n",
              "      <td>12.112835</td>\n",
              "      <td>16</td>\n",
              "      <td>61</td>\n",
              "      <td>0.975000</td>\n",
              "      <td>0.257847</td>\n",
              "      <td>0.474242</td>\n",
              "      <td>7.368839</td>\n",
              "    </tr>\n",
              "    <tr>\n",
              "      <th>16</th>\n",
              "      <td>12.370715</td>\n",
              "      <td>17</td>\n",
              "      <td>65</td>\n",
              "      <td>0.987500</td>\n",
              "      <td>0.177569</td>\n",
              "      <td>0.584848</td>\n",
              "      <td>6.894739</td>\n",
              "    </tr>\n",
              "    <tr>\n",
              "      <th>17</th>\n",
              "      <td>12.614626</td>\n",
              "      <td>18</td>\n",
              "      <td>69</td>\n",
              "      <td>0.987500</td>\n",
              "      <td>0.027516</td>\n",
              "      <td>0.587879</td>\n",
              "      <td>8.218684</td>\n",
              "    </tr>\n",
              "    <tr>\n",
              "      <th>18</th>\n",
              "      <td>12.867900</td>\n",
              "      <td>19</td>\n",
              "      <td>73</td>\n",
              "      <td>0.987500</td>\n",
              "      <td>0.158278</td>\n",
              "      <td>0.571212</td>\n",
              "      <td>8.432359</td>\n",
              "    </tr>\n",
              "    <tr>\n",
              "      <th>19</th>\n",
              "      <td>13.068435</td>\n",
              "      <td>20</td>\n",
              "      <td>76</td>\n",
              "      <td>0.983333</td>\n",
              "      <td>0.174260</td>\n",
              "      <td>0.587879</td>\n",
              "      <td>7.749695</td>\n",
              "    </tr>\n",
              "  </tbody>\n",
              "</table>\n",
              "</div>"
            ],
            "text/plain": [
              "    elapsed_time  epoch  ...  validation/main/accuracy  validation/main/loss\n",
              "15     12.112835     16  ...                  0.474242              7.368839\n",
              "16     12.370715     17  ...                  0.584848              6.894739\n",
              "17     12.614626     18  ...                  0.587879              8.218684\n",
              "18     12.867900     19  ...                  0.571212              8.432359\n",
              "19     13.068435     20  ...                  0.587879              7.749695\n",
              "\n",
              "[5 rows x 7 columns]"
            ]
          },
          "metadata": {
            "tags": []
          },
          "execution_count": 31
        }
      ]
    },
    {
      "cell_type": "code",
      "metadata": {
        "id": "InhHv8AzZWbf",
        "colab_type": "code",
        "outputId": "5c74447e-d7c5-4229-af0b-7cb557dca67e",
        "colab": {
          "base_uri": "https://localhost:8080/",
          "height": 286
        }
      },
      "source": [
        "result[['main/accuracy','validation/main/accuracy']].plot()"
      ],
      "execution_count": 0,
      "outputs": [
        {
          "output_type": "execute_result",
          "data": {
            "text/plain": [
              "<matplotlib.axes._subplots.AxesSubplot at 0x7f42990046d8>"
            ]
          },
          "metadata": {
            "tags": []
          },
          "execution_count": 32
        },
        {
          "output_type": "display_data",
          "data": {
            "image/png": "[encoded data removed]",
            "text/plain": [
              "<Figure size 432x288 with 1 Axes>"
            ]
          },
          "metadata": {
            "tags": []
          }
        }
      ]
    },
    {
      "cell_type": "code",
      "metadata": {
        "id": "twfGGrLKyeXq",
        "colab_type": "code",
        "colab": {}
      },
      "source": [
        "import numpy as np"
      ],
      "execution_count": 0,
      "outputs": []
    },
    {
      "cell_type": "code",
      "metadata": {
        "id": "Oj1NCqiMyeTx",
        "colab_type": "code",
        "colab": {}
      },
      "source": [
        "import cv2"
      ],
      "execution_count": 0,
      "outputs": []
    },
    {
      "cell_type": "code",
      "metadata": {
        "id": "omxFih_3yeQq",
        "colab_type": "code",
        "colab": {}
      },
      "source": [
        "import pandas as pd"
      ],
      "execution_count": 0,
      "outputs": []
    },
    {
      "cell_type": "code",
      "metadata": {
        "id": "_mRehUp8yeN3",
        "colab_type": "code",
        "colab": {}
      },
      "source": [
        "import random"
      ],
      "execution_count": 0,
      "outputs": []
    },
    {
      "cell_type": "code",
      "metadata": {
        "id": "NITHUAspyeLK",
        "colab_type": "code",
        "colab": {}
      },
      "source": [
        "import json"
      ],
      "execution_count": 0,
      "outputs": []
    },
    {
      "cell_type": "code",
      "metadata": {
        "id": "0aBt66PXyeIK",
        "colab_type": "code",
        "colab": {}
      },
      "source": [
        "import chainer"
      ],
      "execution_count": 0,
      "outputs": []
    },
    {
      "cell_type": "code",
      "metadata": {
        "id": "DYZVXWXbyeFd",
        "colab_type": "code",
        "colab": {}
      },
      "source": [
        "import chainer.functions as F"
      ],
      "execution_count": 0,
      "outputs": []
    },
    {
      "cell_type": "code",
      "metadata": {
        "id": "cSG3mXhDyeCx",
        "colab_type": "code",
        "colab": {}
      },
      "source": [
        "import chainer.links as L"
      ],
      "execution_count": 0,
      "outputs": []
    },
    {
      "cell_type": "code",
      "metadata": {
        "id": "jp9UZP30yd9m",
        "colab_type": "code",
        "colab": {}
      },
      "source": [
        "from chainer.datasets import split_dataset_random, TupleDataset\n",
        "from chainer.training import extensions"
      ],
      "execution_count": 0,
      "outputs": []
    },
    {
      "cell_type": "code",
      "metadata": {
        "id": "cP2eA_Txyd6e",
        "colab_type": "code",
        "colab": {}
      },
      "source": [
        "# path = 'drive/My Drive/longterm/week10/data/' # よく使用するpathを変数に入れておくと便利です。\n",
        "from glob import glob\n",
        "folders = sorted(glob('{}/*'.format(path)))\n"
      ],
      "execution_count": 0,
      "outputs": []
    },
    {
      "cell_type": "code",
      "metadata": {
        "id": "_skgjMC1yd4S",
        "colab_type": "code",
        "colab": {}
      },
      "source": [
        "from chainer.links import GoogLeNet\n",
        "from chainer.links.model.vision.googlenet import prepare"
      ],
      "execution_count": 0,
      "outputs": []
    },
    {
      "cell_type": "code",
      "metadata": {
        "id": "C8j5fvopyd0k",
        "colab_type": "code",
        "colab": {}
      },
      "source": [
        "def prepare_data_google(folders):\n",
        "  filepaths, x, t= [], [], []\n",
        "  for i, folder in enumerate(folders):\n",
        "    filepaths = glob('{}/*'.format(folder))\n",
        "    for filepath in filepaths:\n",
        "      try:\n",
        "        img = cv2.cvtColor(cv2.imread(filepath), cv2.COLOR_BGR2RGB)\n",
        "        img = prepare(img) # 画像の前処理の部分を変更\n",
        "        x.append(img)\n",
        "        t.append(np.array(i, 'i'))\n",
        "      except Exception as e:\n",
        "        print(e, filepath, 'error')\n",
        "  return x, t"
      ],
      "execution_count": 0,
      "outputs": []
    },
    {
      "cell_type": "code",
      "metadata": {
        "id": "MSK63IRpydvS",
        "colab_type": "code",
        "colab": {}
      },
      "source": [
        "x, t = prepare_data_google(folders)"
      ],
      "execution_count": 0,
      "outputs": []
    },
    {
      "cell_type": "code",
      "metadata": {
        "id": "ViFJdwi1ydtk",
        "colab_type": "code",
        "colab": {}
      },
      "source": [
        "dataset = TupleDataset(x, t)"
      ],
      "execution_count": 0,
      "outputs": []
    },
    {
      "cell_type": "code",
      "metadata": {
        "id": "nsaMhNL-ydqO",
        "colab_type": "code",
        "colab": {}
      },
      "source": [
        "n_train = int(len(dataset)*0.8)\n",
        "train_val, test = split_dataset_random(dataset, n_train, seed=0)\n",
        "n_train = int(len(train_val)*0.7)\n",
        "train, valid = split_dataset_random(train_val, n_train, seed=0)"
      ],
      "execution_count": 0,
      "outputs": []
    },
    {
      "cell_type": "code",
      "metadata": {
        "id": "jIAPaW09zRS-",
        "colab_type": "code",
        "colab": {}
      },
      "source": [
        "class GoogleNet(chainer.Chain):\n",
        "\n",
        "    def __init__(self, n_out=3):\n",
        "        super().__init__()\n",
        "        with self.init_scope():\n",
        "            self.base = L.GoogLeNet()\n",
        "            self.fc = L.Linear(None, n_out)\n",
        "\n",
        "    def __call__(self, x):\n",
        "        h = self.base(x, layers=['pool5'])\n",
        "        h = self.fc(h['pool5'])\n",
        "        return h"
      ],
      "execution_count": 0,
      "outputs": []
    },
    {
      "cell_type": "code",
      "metadata": {
        "id": "1NszRpV6zRPu",
        "colab_type": "code",
        "colab": {}
      },
      "source": [
        "def reset_seed(seed=0):\n",
        "    random.seed(seed)\n",
        "    np.random.seed(seed)\n",
        "    if chainer.cuda.available:\n",
        "        chainer.cuda.cupy.random.seed(seed)"
      ],
      "execution_count": 0,
      "outputs": []
    },
    {
      "cell_type": "code",
      "metadata": {
        "id": "Ugl-1-2izRND",
        "colab_type": "code",
        "colab": {}
      },
      "source": [
        "reset_seed(0)"
      ],
      "execution_count": 0,
      "outputs": []
    },
    {
      "cell_type": "code",
      "metadata": {
        "id": "fp1afwiTzRLJ",
        "colab_type": "code",
        "outputId": "cb71cadc-7f44-4ca6-8fca-913c66ee16e0",
        "colab": {
          "base_uri": "https://localhost:8080/",
          "height": 34
        }
      },
      "source": [
        "gpu_id = 0\n",
        "model = L.Classifier(GoogleNet())\n",
        "model.to_gpu(gpu_id)"
      ],
      "execution_count": 0,
      "outputs": [
        {
          "output_type": "execute_result",
          "data": {
            "text/plain": [
              "<chainer.links.model.classifier.Classifier at 0x7f4294e7e240>"
            ]
          },
          "metadata": {
            "tags": []
          },
          "execution_count": 113
        }
      ]
    },
    {
      "cell_type": "code",
      "metadata": {
        "id": "68Fl-kOTzRF3",
        "colab_type": "code",
        "colab": {}
      },
      "source": [
        "alpha = 1e-4\n",
        "\n",
        "optimizer = chainer.optimizers.Adam(alpha=alpha)\n",
        "optimizer.setup(model)\n",
        "\n",
        "model.predictor['fc'].W.update_rule.hyperparam.alpha = alpha * 10\n",
        "model.predictor['fc'].b.update_rule.hyperparam.alpha = alpha * 10"
      ],
      "execution_count": 0,
      "outputs": []
    },
    {
      "cell_type": "code",
      "metadata": {
        "id": "ti167fSozRCs",
        "colab_type": "code",
        "colab": {}
      },
      "source": [
        "batchsize = 30\n",
        "train_iter = chainer.iterators.SerialIterator(train, batchsize)\n",
        "valid_iter = chainer.iterators.SerialIterator(valid, batchsize, repeat=False, shuffle=False)"
      ],
      "execution_count": 0,
      "outputs": []
    },
    {
      "cell_type": "code",
      "metadata": {
        "id": "B8SrDpW0zQ_9",
        "colab_type": "code",
        "colab": {}
      },
      "source": [
        "epoch = 30\n",
        "updater = chainer.training.StandardUpdater(train_iter, optimizer, device=gpu_id)"
      ],
      "execution_count": 0,
      "outputs": []
    },
    {
      "cell_type": "code",
      "metadata": {
        "id": "PH6pGVhIydm_",
        "colab_type": "code",
        "colab": {}
      },
      "source": [
        "trainer = chainer.training.Trainer(updater, (epoch, 'epoch'), out='{}/result'.format(path))\n",
        "\n",
        "trainer.extend(extensions.Evaluator(valid_iter, model, device=gpu_id))\n",
        "trainer.extend(extensions.LogReport(log_name='log_gnet_finetune'))\n",
        "# trainer.extend(extensions.PrintReport(['epoch','elapsed_time','main/loss','validation/main/loss','main/accuracy']), trigger=(1,'epoch'))\n",
        "trainer.extend(extensions.PrintReport(['epoch', 'iteration', 'main/accuracy', 'validation/main/accuracy', 'main/loss', 'validation/main/loss', 'elapsed_time']), trigger=(1, 'epoch'))"
      ],
      "execution_count": 0,
      "outputs": []
    },
    {
      "cell_type": "code",
      "metadata": {
        "id": "E7JHPZke5NSz",
        "colab_type": "code",
        "outputId": "98ba333c-50a0-45b3-a192-15d626ede12e",
        "colab": {
          "base_uri": "https://localhost:8080/",
          "height": 544
        }
      },
      "source": [
        "trainer.run()"
      ],
      "execution_count": 0,
      "outputs": [
        {
          "output_type": "stream",
          "text": [
            "epoch       iteration   main/accuracy  validation/main/accuracy  main/loss   validation/main/loss  elapsed_time\n",
            "\u001b[J1           4           0.508333       0.595238                  1.06885     0.851719              1.89787       \n",
            "\u001b[J2           8           0.841667       0.709524                  0.484374    0.7033                3.74203       \n",
            "\u001b[J3           12          0.9            0.733333                  0.247059    0.662777              5.58134       \n",
            "\u001b[J4           16          0.975          0.709524                  0.135187    0.625265              7.41582       \n",
            "\u001b[J5           20          0.975          0.766667                  0.060123    0.755543              9.25488       \n",
            "\u001b[J6           24          0.975          0.75                      0.0373522   0.839195              11.1281       \n",
            "\u001b[J7           28          0.983333       0.77381                   0.0386739   0.952784              12.9755       \n",
            "\u001b[J8           32          0.975          0.790476                  0.0806275   0.904189              14.8121       \n",
            "\u001b[J9           36          0.975          0.72619                   0.0679149   0.845501              16.6465       \n",
            "\u001b[J10          40          0.983333       0.807143                  0.0398633   0.865662              18.4959       \n",
            "\u001b[J11          44          0.983333       0.790476                  0.0469353   0.76718               20.3309       \n",
            "\u001b[J12          48          0.983333       0.7                       0.0314459   0.759741              22.1752       \n",
            "\u001b[J13          52          0.983333       0.807143                  0.0494348   0.753687              24.0182       \n",
            "\u001b[J14          56          0.975          0.77381                   0.041547    0.914173              25.8709       \n",
            "\u001b[J15          59          0.988889       0.77381                   0.038046    0.951236              27.3258       \n",
            "\u001b[J16          63          0.983333       0.790476                  0.0411502   0.813351              29.1708       \n",
            "\u001b[J17          67          0.983333       0.766667                  0.0262557   0.796252              31.009        \n",
            "\u001b[J18          71          0.983333       0.742857                  0.0283263   0.798133              32.8458       \n",
            "\u001b[J19          75          0.975          0.766667                  0.0265161   0.804694              34.6793       \n",
            "\u001b[J20          79          0.975          0.790476                  0.0343325   0.823855              36.5222       \n",
            "\u001b[J21          83          0.991667       0.766667                  0.0236814   0.859319              38.3574       \n",
            "\u001b[J22          87          0.983333       0.783333                  0.0201098   0.88338               40.2157       \n",
            "\u001b[J23          91          0.975          0.75                      0.0260971   0.881235              42.0496       \n",
            "\u001b[J24          95          0.975          0.75                      0.0247856   0.889859              43.8856       \n",
            "\u001b[J25          99          0.958333       0.75                      0.034375    0.901232              45.7311       \n",
            "\u001b[J26          103         0.983333       0.766667                  0.0182276   0.912421              47.5734       \n",
            "\u001b[J27          107         0.966667       0.766667                  0.0360758   0.922152              49.4052       \n",
            "\u001b[J28          111         0.991667       0.766667                  0.0225922   0.919347              51.2519       \n",
            "\u001b[J29          115         0.983333       0.766667                  0.0227573   0.930419              53.0871       \n",
            "\u001b[J30          118         0.977778       0.807143                  0.0266148   0.963175              54.5504       \n"
          ],
          "name": "stdout"
        }
      ]
    },
    {
      "cell_type": "code",
      "metadata": {
        "id": "y_Pjsi-r5NPq",
        "colab_type": "code",
        "outputId": "ea7b2b8d-24f9-4ee5-8dbc-98eeced4b20e",
        "colab": {
          "base_uri": "https://localhost:8080/",
          "height": 204
        }
      },
      "source": [
        "import json\n",
        "import pandas as pd\n",
        "with open('{}/result/log_gnet_finetune'.format(path)) as f:\n",
        "  result = pd.DataFrame(json.load(f))\n",
        "result.tail(5)"
      ],
      "execution_count": 0,
      "outputs": [
        {
          "output_type": "execute_result",
          "data": {
            "text/html": [
              "<div>\n",
              "<style scoped>\n",
              "    .dataframe tbody tr th:only-of-type {\n",
              "        vertical-align: middle;\n",
              "    }\n",
              "\n",
              "    .dataframe tbody tr th {\n",
              "        vertical-align: top;\n",
              "    }\n",
              "\n",
              "    .dataframe thead th {\n",
              "        text-align: right;\n",
              "    }\n",
              "</style>\n",
              "<table border=\"1\" class=\"dataframe\">\n",
              "  <thead>\n",
              "    <tr style=\"text-align: right;\">\n",
              "      <th></th>\n",
              "      <th>elapsed_time</th>\n",
              "      <th>epoch</th>\n",
              "      <th>iteration</th>\n",
              "      <th>main/accuracy</th>\n",
              "      <th>main/loss</th>\n",
              "      <th>validation/main/accuracy</th>\n",
              "      <th>validation/main/loss</th>\n",
              "    </tr>\n",
              "  </thead>\n",
              "  <tbody>\n",
              "    <tr>\n",
              "      <th>25</th>\n",
              "      <td>47.573436</td>\n",
              "      <td>26</td>\n",
              "      <td>103</td>\n",
              "      <td>0.983333</td>\n",
              "      <td>0.018228</td>\n",
              "      <td>0.766667</td>\n",
              "      <td>0.912421</td>\n",
              "    </tr>\n",
              "    <tr>\n",
              "      <th>26</th>\n",
              "      <td>49.405197</td>\n",
              "      <td>27</td>\n",
              "      <td>107</td>\n",
              "      <td>0.966667</td>\n",
              "      <td>0.036076</td>\n",
              "      <td>0.766667</td>\n",
              "      <td>0.922152</td>\n",
              "    </tr>\n",
              "    <tr>\n",
              "      <th>27</th>\n",
              "      <td>51.251918</td>\n",
              "      <td>28</td>\n",
              "      <td>111</td>\n",
              "      <td>0.991667</td>\n",
              "      <td>0.022592</td>\n",
              "      <td>0.766667</td>\n",
              "      <td>0.919347</td>\n",
              "    </tr>\n",
              "    <tr>\n",
              "      <th>28</th>\n",
              "      <td>53.087103</td>\n",
              "      <td>29</td>\n",
              "      <td>115</td>\n",
              "      <td>0.983333</td>\n",
              "      <td>0.022757</td>\n",
              "      <td>0.766667</td>\n",
              "      <td>0.930419</td>\n",
              "    </tr>\n",
              "    <tr>\n",
              "      <th>29</th>\n",
              "      <td>54.550425</td>\n",
              "      <td>30</td>\n",
              "      <td>118</td>\n",
              "      <td>0.977778</td>\n",
              "      <td>0.026615</td>\n",
              "      <td>0.807143</td>\n",
              "      <td>0.963175</td>\n",
              "    </tr>\n",
              "  </tbody>\n",
              "</table>\n",
              "</div>"
            ],
            "text/plain": [
              "    elapsed_time  epoch  ...  validation/main/accuracy  validation/main/loss\n",
              "25     47.573436     26  ...                  0.766667              0.912421\n",
              "26     49.405197     27  ...                  0.766667              0.922152\n",
              "27     51.251918     28  ...                  0.766667              0.919347\n",
              "28     53.087103     29  ...                  0.766667              0.930419\n",
              "29     54.550425     30  ...                  0.807143              0.963175\n",
              "\n",
              "[5 rows x 7 columns]"
            ]
          },
          "metadata": {
            "tags": []
          },
          "execution_count": 119
        }
      ]
    },
    {
      "cell_type": "code",
      "metadata": {
        "id": "5aVu7O0H5NOC",
        "colab_type": "code",
        "outputId": "14f2ce2a-efd7-4211-e9ad-723a08f2df3d",
        "colab": {
          "base_uri": "https://localhost:8080/",
          "height": 286
        }
      },
      "source": [
        "result[['main/accuracy','validation/main/accuracy']].plot()"
      ],
      "execution_count": 0,
      "outputs": [
        {
          "output_type": "execute_result",
          "data": {
            "text/plain": [
              "<matplotlib.axes._subplots.AxesSubplot at 0x7f4294ef2048>"
            ]
          },
          "metadata": {
            "tags": []
          },
          "execution_count": 120
        },
        {
          "output_type": "display_data",
          "data": {
            "image/png": "[encoded data removed]",
            "text/plain": [
              "<Figure size 432x288 with 1 Axes>"
            ]
          },
          "metadata": {
            "tags": []
          }
        }
      ]
    },
    {
      "cell_type": "code",
      "metadata": {
        "id": "hpDaGkiv5NKr",
        "colab_type": "code",
        "colab": {}
      },
      "source": [
        ""
      ],
      "execution_count": 0,
      "outputs": []
    },
    {
      "cell_type": "code",
      "metadata": {
        "id": "f3K8kK4r5NIf",
        "colab_type": "code",
        "colab": {}
      },
      "source": [
        ""
      ],
      "execution_count": 0,
      "outputs": []
    },
    {
      "cell_type": "code",
      "metadata": {
        "id": "qEjWy-EF5NFX",
        "colab_type": "code",
        "colab": {}
      },
      "source": [
        ""
      ],
      "execution_count": 0,
      "outputs": []
    },
    {
      "cell_type": "code",
      "metadata": {
        "id": "-bJCrNO35NDf",
        "colab_type": "code",
        "colab": {}
      },
      "source": [
        ""
      ],
      "execution_count": 0,
      "outputs": []
    },
    {
      "cell_type": "code",
      "metadata": {
        "id": "lfubc2GP5NAp",
        "colab_type": "code",
        "colab": {}
      },
      "source": [
        ""
      ],
      "execution_count": 0,
      "outputs": []
    }
  ]
}