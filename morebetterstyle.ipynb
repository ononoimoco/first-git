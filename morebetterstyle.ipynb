{
  "nbformat": 4,
  "nbformat_minor": 0,
  "metadata": {
    "colab": {
      "name": "morebetterstyle.ipynb",
      "provenance": [],
      "collapsed_sections": [],
      "include_colab_link": true
    },
    "kernelspec": {
      "name": "python3",
      "display_name": "Python 3"
    },
    "accelerator": "GPU"
  },
  "cells": [
    {
      "cell_type": "markdown",
      "metadata": {
        "id": "view-in-github",
        "colab_type": "text"
      },
      "source": [
        "<a href=\"https://colab.research.google.com/github/ononoimoco/first-git/blob/master/morebetterstyle.ipynb\" target=\"_parent\"><img src=\"https://colab.research.google.com/assets/colab-badge.svg\" alt=\"Open In Colab\"/></a>"
      ]
    },
    {
      "cell_type": "code",
      "metadata": {
        "id": "2iSzMZoo14gg",
        "colab_type": "code",
        "outputId": "5b7b8c2d-252e-41d2-bf2e-cdce57aa1f06",
        "colab": {
          "base_uri": "https://localhost:8080/",
          "height": 139
        }
      },
      "source": [
        "from google.colab import drive\n",
        "drive.mount('/content/drive')\n",
        "!ls 'drive/'\n"
      ],
      "execution_count": 1,
      "outputs": [
        {
          "output_type": "stream",
          "text": [
            "Go to this URL in a browser: https://accounts.google.com/o/oauth2/auth?client_id=947318989803-6bn6qk8qdgf4n4g3pfee6491hc0brc4i.apps.googleusercontent.com&redirect_uri=urn%3Aietf%3Awg%3Aoauth%3A2.0%3Aoob&scope=email%20https%3A%2F%2Fwww.googleapis.com%2Fauth%2Fdocs.test%20https%3A%2F%2Fwww.googleapis.com%2Fauth%2Fdrive%20https%3A%2F%2Fwww.googleapis.com%2Fauth%2Fdrive.photos.readonly%20https%3A%2F%2Fwww.googleapis.com%2Fauth%2Fpeopleapi.readonly&response_type=code\n",
            "\n",
            "Enter your authorization code:\n",
            "··········\n",
            "Mounted at /content/drive\n",
            "'My Drive'\n"
          ],
          "name": "stdout"
        }
      ]
    },
    {
      "cell_type": "code",
      "metadata": {
        "id": "fU7gHg3Q2Nli",
        "colab_type": "code",
        "outputId": "1a9363a1-c62f-478f-a501-93743190fa7a",
        "colab": {
          "base_uri": "https://localhost:8080/",
          "height": 34
        }
      },
      "source": [
        "!ls 'drive/My Drive/longterm/development/data/'"
      ],
      "execution_count": 59,
      "outputs": [
        {
          "output_type": "stream",
          "text": [
            "ウェーブ  ストレート  ナチュラル\n"
          ],
          "name": "stdout"
        }
      ]
    },
    {
      "cell_type": "code",
      "metadata": {
        "id": "IS-jnGVnlDHt",
        "colab_type": "code",
        "colab": {}
      },
      "source": [
        "path = 'drive/My Drive/longterm/development/data'"
      ],
      "execution_count": 0,
      "outputs": []
    },
    {
      "cell_type": "code",
      "metadata": {
        "id": "DvRSzlJ8lqrs",
        "colab_type": "code",
        "colab": {}
      },
      "source": [
        "from glob import glob\n",
        "folders = sorted(glob('{}/*'.format(path)))"
      ],
      "execution_count": 0,
      "outputs": []
    },
    {
      "cell_type": "code",
      "metadata": {
        "id": "IRKJmA4mJd3v",
        "colab_type": "code",
        "outputId": "f6183f46-adce-419e-fdbb-f168335288fb",
        "colab": {
          "base_uri": "https://localhost:8080/",
          "height": 68
        }
      },
      "source": [
        "folders"
      ],
      "execution_count": 62,
      "outputs": [
        {
          "output_type": "execute_result",
          "data": {
            "text/plain": [
              "['drive/My Drive/longterm/development/data/ウェーブ',\n",
              " 'drive/My Drive/longterm/development/data/ストレート',\n",
              " 'drive/My Drive/longterm/development/data/ナチュラル']"
            ]
          },
          "metadata": {
            "tags": []
          },
          "execution_count": 62
        }
      ]
    },
    {
      "cell_type": "code",
      "metadata": {
        "id": "p7Bc0bRtF-N4",
        "colab_type": "code",
        "colab": {}
      },
      "source": [
        "import sys"
      ],
      "execution_count": 0,
      "outputs": []
    },
    {
      "cell_type": "code",
      "metadata": {
        "id": "k4uWPL1BGBBh",
        "colab_type": "code",
        "outputId": "2a77f92c-f9ca-441f-89b4-c3c682a063a7",
        "colab": {
          "base_uri": "https://localhost:8080/",
          "height": 34
        }
      },
      "source": [
        "print('Hello, Colaboratory from Python {}!'.format(sys.version_info[0]))"
      ],
      "execution_count": 64,
      "outputs": [
        {
          "output_type": "stream",
          "text": [
            "Hello, Colaboratory from Python 3!\n"
          ],
          "name": "stdout"
        }
      ]
    },
    {
      "cell_type": "code",
      "metadata": {
        "id": "PjZYjfafGEFo",
        "colab_type": "code",
        "outputId": "9871a55f-03b8-4941-a95d-fb38dbcd61fb",
        "colab": {
          "base_uri": "https://localhost:8080/",
          "height": 71
        }
      },
      "source": [
        "from google.colab import drive\n",
        "drive.mount('/content/drive')\n",
        "!ls 'drive/'"
      ],
      "execution_count": 65,
      "outputs": [
        {
          "output_type": "stream",
          "text": [
            "Drive already mounted at /content/drive; to attempt to forcibly remount, call drive.mount(\"/content/drive\", force_remount=True).\n",
            "'My Drive'\n"
          ],
          "name": "stdout"
        }
      ]
    },
    {
      "cell_type": "code",
      "metadata": {
        "id": "H8Dct-04GMVD",
        "colab_type": "code",
        "outputId": "0d1457c1-1dbb-4874-eec1-232a26d3d147",
        "colab": {
          "base_uri": "https://localhost:8080/",
          "height": 34
        }
      },
      "source": [
        "!ls 'drive/My Drive/longterm/development/'"
      ],
      "execution_count": 66,
      "outputs": [
        {
          "output_type": "stream",
          "text": [
            "data\n"
          ],
          "name": "stdout"
        }
      ]
    },
    {
      "cell_type": "code",
      "metadata": {
        "id": "ocewEQDyMVZV",
        "colab_type": "code",
        "colab": {}
      },
      "source": [
        "path = 'drive/My Drive/longterm/development'"
      ],
      "execution_count": 0,
      "outputs": []
    },
    {
      "cell_type": "code",
      "metadata": {
        "id": "U0moqW33GjhX",
        "colab_type": "code",
        "colab": {}
      },
      "source": [
        "import numpy as np\n",
        "import cv2"
      ],
      "execution_count": 0,
      "outputs": []
    },
    {
      "cell_type": "code",
      "metadata": {
        "id": "-xmy20gcG-qg",
        "colab_type": "code",
        "colab": {}
      },
      "source": [
        "filepaths, x, t= [], [], []\n",
        "for i, folder in enumerate(folders):\n",
        "    filepaths = glob('{}/*'.format(folder))\n",
        "    for filepath in filepaths:\n",
        "        try:\n",
        "            img = cv2.imread(filepath)\n",
        "            img = cv2.cvtColor(img, cv2.COLOR_BGR2RGB)\n",
        "            img = cv2.resize(img, (224, 224))\n",
        "            img = img.astype('f').transpose(2,0,1)\n",
        "            x.append(img)\n",
        "            t.append(np.array(i, 'i'))\n",
        "        except Exception as e:\n",
        "            print(e, filepath, 'error')"
      ],
      "execution_count": 0,
      "outputs": []
    },
    {
      "cell_type": "code",
      "metadata": {
        "id": "NMrQVHjJHEeJ",
        "colab_type": "code",
        "colab": {}
      },
      "source": [
        "from chainer.datasets import TupleDataset"
      ],
      "execution_count": 0,
      "outputs": []
    },
    {
      "cell_type": "code",
      "metadata": {
        "id": "IGxqSLQ1HHcD",
        "colab_type": "code",
        "colab": {}
      },
      "source": [
        "dataset = TupleDataset(x,t)"
      ],
      "execution_count": 0,
      "outputs": []
    },
    {
      "cell_type": "code",
      "metadata": {
        "id": "Zrbkxi04HKOY",
        "colab_type": "code",
        "colab": {}
      },
      "source": [
        "from chainer.datasets import split_dataset_random\n",
        "n_train = int(len(dataset)*0.6)\n",
        "train_val,test = split_dataset_random(dataset,n_train,seed=0)\n",
        "n_train = int(len(train_val)*0.6)\n",
        "train,valid = split_dataset_random(train_val,n_train,seed=0)"
      ],
      "execution_count": 0,
      "outputs": []
    },
    {
      "cell_type": "code",
      "metadata": {
        "id": "SyklliGEHP4P",
        "colab_type": "code",
        "outputId": "0baafbf9-7ae6-427a-9bb0-928a6531f15c",
        "colab": {
          "base_uri": "https://localhost:8080/",
          "height": 34
        }
      },
      "source": [
        "len(train)"
      ],
      "execution_count": 73,
      "outputs": [
        {
          "output_type": "execute_result",
          "data": {
            "text/plain": [
              "76"
            ]
          },
          "metadata": {
            "tags": []
          },
          "execution_count": 73
        }
      ]
    },
    {
      "cell_type": "code",
      "metadata": {
        "id": "VpcvuLN0NKgG",
        "colab_type": "code",
        "outputId": "2627d56e-7111-43b3-8cf5-e20dded8f6b3",
        "colab": {
          "base_uri": "https://localhost:8080/",
          "height": 34
        }
      },
      "source": [
        "len(valid)"
      ],
      "execution_count": 74,
      "outputs": [
        {
          "output_type": "execute_result",
          "data": {
            "text/plain": [
              "51"
            ]
          },
          "metadata": {
            "tags": []
          },
          "execution_count": 74
        }
      ]
    },
    {
      "cell_type": "code",
      "metadata": {
        "id": "pqpD_gkTNKY7",
        "colab_type": "code",
        "outputId": "22625a72-474b-45cf-de0d-f6388a9fca40",
        "colab": {
          "base_uri": "https://localhost:8080/",
          "height": 34
        }
      },
      "source": [
        "len(test)"
      ],
      "execution_count": 75,
      "outputs": [
        {
          "output_type": "execute_result",
          "data": {
            "text/plain": [
              "86"
            ]
          },
          "metadata": {
            "tags": []
          },
          "execution_count": 75
        }
      ]
    },
    {
      "cell_type": "code",
      "metadata": {
        "id": "xJcog6fdNKTR",
        "colab_type": "code",
        "colab": {}
      },
      "source": [
        "import chainer\n",
        "import chainer.links as L\n",
        "import chainer.functions as F\n",
        "import random\n",
        "import numpy as np"
      ],
      "execution_count": 0,
      "outputs": []
    },
    {
      "cell_type": "code",
      "metadata": {
        "id": "zDKcQe4BPPhU",
        "colab_type": "code",
        "colab": {}
      },
      "source": [
        "class CNN(chainer.Chain):\n",
        "\n",
        "    def __init__(self, n_mids=40, n_out=20):\n",
        "        super().__init__()\n",
        "        with self.init_scope():\n",
        "            self.conv1 = L.Convolution2D(in_channels=3, out_channels=32, ksize=3, pad=1)\n",
        "            self.conv2 = L.Convolution2D(in_channels=32, out_channels=64, ksize=3, pad=1)\n",
        "            self.fc1 = L.Linear(None, n_mids)\n",
        "            self.fc2 = L.Linear(None, n_out)\n",
        "            self.bn1 = L.BatchNormalization(3)\n",
        "            self.bn2 = L.BatchNormalization(32)\n",
        "\n",
        "    def __call__(self, x):\n",
        "        h = self.bn1(x)\n",
        "        h = F.relu(self.conv1(h))\n",
        "        h = F.max_pooling_2d(h, 3, 3)\n",
        "        h = self.bn2(h)\n",
        "        h = F.relu(self.conv2(h))\n",
        "        h = F.max_pooling_2d(h, 3, 3)\n",
        "        h = self.fc1(h)\n",
        "        h = self.fc2(h)\n",
        "        return h"
      ],
      "execution_count": 0,
      "outputs": []
    },
    {
      "cell_type": "code",
      "metadata": {
        "id": "Sdt3FQewQrN6",
        "colab_type": "code",
        "colab": {}
      },
      "source": [
        "def reset_seed(seed=0):\n",
        "  random.seed(seed)\n",
        "  np.random.seed(seed)\n",
        "  if chainer.cuda.available:\n",
        "    chainer.cuda.cupy.random.seed(seed)"
      ],
      "execution_count": 0,
      "outputs": []
    },
    {
      "cell_type": "code",
      "metadata": {
        "id": "SmCzWMGoREbK",
        "colab_type": "code",
        "colab": {}
      },
      "source": [
        "reset_seed(0)"
      ],
      "execution_count": 0,
      "outputs": []
    },
    {
      "cell_type": "code",
      "metadata": {
        "id": "ezI4jBOjRGID",
        "colab_type": "code",
        "colab": {}
      },
      "source": [
        "gpu_id = 0\n",
        "model = L.Classifier(CNN())"
      ],
      "execution_count": 0,
      "outputs": []
    },
    {
      "cell_type": "code",
      "metadata": {
        "id": "bM-LonD5RYYb",
        "colab_type": "code",
        "outputId": "96cabae8-2848-4e50-e01b-f500f8eb31c5",
        "colab": {
          "base_uri": "https://localhost:8080/",
          "height": 34
        }
      },
      "source": [
        "optimizer = chainer.optimizers.Adam()\n",
        "optimizer.setup(model)\n",
        "model.to_gpu(gpu_id)\n"
      ],
      "execution_count": 81,
      "outputs": [
        {
          "output_type": "execute_result",
          "data": {
            "text/plain": [
              "<chainer.links.model.classifier.Classifier at 0x7f53a1d87908>"
            ]
          },
          "metadata": {
            "tags": []
          },
          "execution_count": 81
        }
      ]
    },
    {
      "cell_type": "code",
      "metadata": {
        "id": "g5MeA-4AWVRH",
        "colab_type": "code",
        "colab": {}
      },
      "source": [
        "batchsize = 20\n",
        "train_iter = chainer.iterators.SerialIterator(train, batchsize)\n",
        "valid_iter = chainer.iterators.SerialIterator(valid, batchsize, repeat=False, shuffle=False)"
      ],
      "execution_count": 0,
      "outputs": []
    },
    {
      "cell_type": "code",
      "metadata": {
        "id": "ITcyc1T5W8cx",
        "colab_type": "code",
        "colab": {}
      },
      "source": [
        "epoch = 20\n",
        "updater = chainer.training.StandardUpdater(train_iter,optimizer,device = gpu_id)"
      ],
      "execution_count": 0,
      "outputs": []
    },
    {
      "cell_type": "code",
      "metadata": {
        "id": "Tdl4mQpQXJE2",
        "colab_type": "code",
        "colab": {}
      },
      "source": [
        "from chainer.training import extensions\n",
        "trainer = chainer.training.Trainer(updater, ( epoch,'epoch'),out='{}/result'.format(path))\n",
        "\n",
        "trainer.extend(extensions.Evaluator(valid_iter,model,device=gpu_id))"
      ],
      "execution_count": 0,
      "outputs": []
    },
    {
      "cell_type": "code",
      "metadata": {
        "id": "hr2-BNHjXmWD",
        "colab_type": "code",
        "colab": {}
      },
      "source": [
        "trainer.extend(extensions.LogReport(log_name='log_simplecnn'))\n",
        "trainer.extend(extensions.PrintReport(['epoch','elapsed_time','validation/main/loss','main/accuracy','validation/main/accuracy']), trigger=(1, 'epoch'))"
      ],
      "execution_count": 0,
      "outputs": []
    },
    {
      "cell_type": "code",
      "metadata": {
        "id": "NmiAMV4sYhC_",
        "colab_type": "code",
        "outputId": "ae97768e-3494-4420-c4bb-4e5b08474423",
        "colab": {
          "base_uri": "https://localhost:8080/",
          "height": 374
        }
      },
      "source": [
        "trainer.run()"
      ],
      "execution_count": 86,
      "outputs": [
        {
          "output_type": "stream",
          "text": [
            "epoch       elapsed_time  validation/main/loss  main/accuracy  validation/main/accuracy\n",
            "\u001b[J1           0.174491      117.556               0.375          0.421212                  \n",
            "\u001b[J2           0.316684      37.4532               0.6375         0.468182                  \n",
            "\u001b[J3           0.443421      18.8247               0.675          0.421212                  \n",
            "\u001b[J4           0.560926      10.9635               0.625          0.562121                  \n",
            "\u001b[J5           0.660222      8.65439               0.9            0.645455                  \n",
            "\u001b[J6           0.777086      9.8832                0.8625         0.468182                  \n",
            "\u001b[J7           0.893458      5.24214               0.8625         0.665152                  \n",
            "\u001b[J8           1.02795       5.50126               0.8375         0.634849                  \n",
            "\u001b[J9           1.14618       4.92483               0.9125         0.565152                  \n",
            "\u001b[J10          1.24446       6.11602               0.966667       0.565152                  \n",
            "\u001b[J11          1.36057       7.6044                0.975          0.548485                  \n",
            "\u001b[J12          1.4779        6.21555               0.975          0.598485                  \n",
            "\u001b[J13          1.59508       5.7968                1              0.581818                  \n",
            "\u001b[J14          1.71386       5.58031               0.9875         0.615151                  \n",
            "\u001b[J15          1.81552       5.61268               1              0.648485                  \n",
            "\u001b[J16          1.93659       5.66852               1              0.648485                  \n",
            "\u001b[J17          2.05341       5.68403               1              0.634849                  \n",
            "\u001b[J18          2.19275       5.64965               1              0.634849                  \n",
            "\u001b[J19          2.31095       5.61115               1              0.634849                  \n",
            "\u001b[J20          2.41002       5.60335               1              0.648485                  \n"
          ],
          "name": "stdout"
        }
      ]
    },
    {
      "cell_type": "code",
      "metadata": {
        "id": "ONXUJ9eCYtkx",
        "colab_type": "code",
        "outputId": "7574f97b-bbdb-47fb-fb10-42699a425287",
        "colab": {
          "base_uri": "https://localhost:8080/",
          "height": 289
        }
      },
      "source": [
        "!nvidia-smi"
      ],
      "execution_count": 87,
      "outputs": [
        {
          "output_type": "stream",
          "text": [
            "Sat Sep 28 23:21:55 2019       \n",
            "+-----------------------------------------------------------------------------+\n",
            "| NVIDIA-SMI 430.40       Driver Version: 418.67       CUDA Version: 10.1     |\n",
            "|-------------------------------+----------------------+----------------------+\n",
            "| GPU  Name        Persistence-M| Bus-Id        Disp.A | Volatile Uncorr. ECC |\n",
            "| Fan  Temp  Perf  Pwr:Usage/Cap|         Memory-Usage | GPU-Util  Compute M. |\n",
            "|===============================+======================+======================|\n",
            "|   0  Tesla T4            Off  | 00000000:00:04.0 Off |                    0 |\n",
            "| N/A   67C    P0    29W /  70W |   1117MiB / 15079MiB |      0%      Default |\n",
            "+-------------------------------+----------------------+----------------------+\n",
            "                                                                               \n",
            "+-----------------------------------------------------------------------------+\n",
            "| Processes:                                                       GPU Memory |\n",
            "|  GPU       PID   Type   Process name                             Usage      |\n",
            "|=============================================================================|\n",
            "+-----------------------------------------------------------------------------+\n"
          ],
          "name": "stdout"
        }
      ]
    },
    {
      "cell_type": "code",
      "metadata": {
        "id": "hYYsCkqSZCzl",
        "colab_type": "code",
        "outputId": "087c6ca9-8560-4a37-c974-8aefe985a562",
        "colab": {
          "base_uri": "https://localhost:8080/",
          "height": 204
        }
      },
      "source": [
        "import json\n",
        "import pandas as pd\n",
        "with open('{}/result/log_simplecnn'.format(path)) as f:\n",
        "  result = pd.DataFrame(json.load(f))\n",
        "result.tail(5)"
      ],
      "execution_count": 88,
      "outputs": [
        {
          "output_type": "execute_result",
          "data": {
            "text/html": [
              "<div>\n",
              "<style scoped>\n",
              "    .dataframe tbody tr th:only-of-type {\n",
              "        vertical-align: middle;\n",
              "    }\n",
              "\n",
              "    .dataframe tbody tr th {\n",
              "        vertical-align: top;\n",
              "    }\n",
              "\n",
              "    .dataframe thead th {\n",
              "        text-align: right;\n",
              "    }\n",
              "</style>\n",
              "<table border=\"1\" class=\"dataframe\">\n",
              "  <thead>\n",
              "    <tr style=\"text-align: right;\">\n",
              "      <th></th>\n",
              "      <th>elapsed_time</th>\n",
              "      <th>epoch</th>\n",
              "      <th>iteration</th>\n",
              "      <th>main/accuracy</th>\n",
              "      <th>main/loss</th>\n",
              "      <th>validation/main/accuracy</th>\n",
              "      <th>validation/main/loss</th>\n",
              "    </tr>\n",
              "  </thead>\n",
              "  <tbody>\n",
              "    <tr>\n",
              "      <th>15</th>\n",
              "      <td>1.936590</td>\n",
              "      <td>16</td>\n",
              "      <td>61</td>\n",
              "      <td>1.0</td>\n",
              "      <td>0.000042</td>\n",
              "      <td>0.648485</td>\n",
              "      <td>5.668519</td>\n",
              "    </tr>\n",
              "    <tr>\n",
              "      <th>16</th>\n",
              "      <td>2.053409</td>\n",
              "      <td>17</td>\n",
              "      <td>65</td>\n",
              "      <td>1.0</td>\n",
              "      <td>0.000768</td>\n",
              "      <td>0.634849</td>\n",
              "      <td>5.684027</td>\n",
              "    </tr>\n",
              "    <tr>\n",
              "      <th>17</th>\n",
              "      <td>2.192749</td>\n",
              "      <td>18</td>\n",
              "      <td>69</td>\n",
              "      <td>1.0</td>\n",
              "      <td>0.000059</td>\n",
              "      <td>0.634849</td>\n",
              "      <td>5.649655</td>\n",
              "    </tr>\n",
              "    <tr>\n",
              "      <th>18</th>\n",
              "      <td>2.310953</td>\n",
              "      <td>19</td>\n",
              "      <td>73</td>\n",
              "      <td>1.0</td>\n",
              "      <td>0.001553</td>\n",
              "      <td>0.634849</td>\n",
              "      <td>5.611147</td>\n",
              "    </tr>\n",
              "    <tr>\n",
              "      <th>19</th>\n",
              "      <td>2.410023</td>\n",
              "      <td>20</td>\n",
              "      <td>76</td>\n",
              "      <td>1.0</td>\n",
              "      <td>0.000127</td>\n",
              "      <td>0.648485</td>\n",
              "      <td>5.603348</td>\n",
              "    </tr>\n",
              "  </tbody>\n",
              "</table>\n",
              "</div>"
            ],
            "text/plain": [
              "    elapsed_time  epoch  ...  validation/main/accuracy  validation/main/loss\n",
              "15      1.936590     16  ...                  0.648485              5.668519\n",
              "16      2.053409     17  ...                  0.634849              5.684027\n",
              "17      2.192749     18  ...                  0.634849              5.649655\n",
              "18      2.310953     19  ...                  0.634849              5.611147\n",
              "19      2.410023     20  ...                  0.648485              5.603348\n",
              "\n",
              "[5 rows x 7 columns]"
            ]
          },
          "metadata": {
            "tags": []
          },
          "execution_count": 88
        }
      ]
    },
    {
      "cell_type": "code",
      "metadata": {
        "id": "InhHv8AzZWbf",
        "colab_type": "code",
        "outputId": "c7dea1ea-f93c-47be-c209-5d07ca8c3cd6",
        "colab": {
          "base_uri": "https://localhost:8080/",
          "height": 286
        }
      },
      "source": [
        "result[['main/accuracy','validation/main/accuracy']].plot()"
      ],
      "execution_count": 89,
      "outputs": [
        {
          "output_type": "execute_result",
          "data": {
            "text/plain": [
              "<matplotlib.axes._subplots.AxesSubplot at 0x7f53a1d6db00>"
            ]
          },
          "metadata": {
            "tags": []
          },
          "execution_count": 89
        },
        {
          "output_type": "display_data",
          "data": {
            "image/png": "[encoded data removed]",
            "text/plain": [
              "<Figure size 432x288 with 1 Axes>"
            ]
          },
          "metadata": {
            "tags": []
          }
        }
      ]
    },
    {
      "cell_type": "code",
      "metadata": {
        "id": "twfGGrLKyeXq",
        "colab_type": "code",
        "colab": {}
      },
      "source": [
        "import numpy as np"
      ],
      "execution_count": 0,
      "outputs": []
    },
    {
      "cell_type": "code",
      "metadata": {
        "id": "Oj1NCqiMyeTx",
        "colab_type": "code",
        "colab": {}
      },
      "source": [
        "import cv2"
      ],
      "execution_count": 0,
      "outputs": []
    },
    {
      "cell_type": "code",
      "metadata": {
        "id": "omxFih_3yeQq",
        "colab_type": "code",
        "colab": {}
      },
      "source": [
        "import pandas as pd"
      ],
      "execution_count": 0,
      "outputs": []
    },
    {
      "cell_type": "code",
      "metadata": {
        "id": "_mRehUp8yeN3",
        "colab_type": "code",
        "colab": {}
      },
      "source": [
        "import random"
      ],
      "execution_count": 0,
      "outputs": []
    },
    {
      "cell_type": "code",
      "metadata": {
        "id": "NITHUAspyeLK",
        "colab_type": "code",
        "colab": {}
      },
      "source": [
        "import json"
      ],
      "execution_count": 0,
      "outputs": []
    },
    {
      "cell_type": "code",
      "metadata": {
        "id": "0aBt66PXyeIK",
        "colab_type": "code",
        "colab": {}
      },
      "source": [
        "import chainer"
      ],
      "execution_count": 0,
      "outputs": []
    },
    {
      "cell_type": "code",
      "metadata": {
        "id": "DYZVXWXbyeFd",
        "colab_type": "code",
        "colab": {}
      },
      "source": [
        "import chainer.functions as F"
      ],
      "execution_count": 0,
      "outputs": []
    },
    {
      "cell_type": "code",
      "metadata": {
        "id": "cSG3mXhDyeCx",
        "colab_type": "code",
        "colab": {}
      },
      "source": [
        "import chainer.links as L"
      ],
      "execution_count": 0,
      "outputs": []
    },
    {
      "cell_type": "code",
      "metadata": {
        "id": "jp9UZP30yd9m",
        "colab_type": "code",
        "colab": {}
      },
      "source": [
        "from chainer.datasets import split_dataset_random, TupleDataset\n",
        "from chainer.training import extensions"
      ],
      "execution_count": 0,
      "outputs": []
    },
    {
      "cell_type": "code",
      "metadata": {
        "id": "8o3HktabNVo8",
        "colab_type": "code",
        "colab": {}
      },
      "source": [
        "path='drive/My Drive/longterm/development/data'"
      ],
      "execution_count": 0,
      "outputs": []
    },
    {
      "cell_type": "code",
      "metadata": {
        "id": "cP2eA_Txyd6e",
        "colab_type": "code",
        "colab": {}
      },
      "source": [
        "# path = 'drive/My Drive/longterm/development/data/' # よく使用するpathを変数に入れておくと便利です。\n",
        "from glob import glob\n",
        "folders = sorted(glob('{}/*'.format(path)))\n"
      ],
      "execution_count": 0,
      "outputs": []
    },
    {
      "cell_type": "code",
      "metadata": {
        "id": "_skgjMC1yd4S",
        "colab_type": "code",
        "colab": {}
      },
      "source": [
        "from chainer.links import GoogLeNet\n",
        "from chainer.links.model.vision.googlenet import prepare"
      ],
      "execution_count": 0,
      "outputs": []
    },
    {
      "cell_type": "code",
      "metadata": {
        "id": "C8j5fvopyd0k",
        "colab_type": "code",
        "colab": {}
      },
      "source": [
        "def prepare_data_google(folders):\n",
        "  filepaths, x, t= [], [], []\n",
        "  for i, folder in enumerate(folders):\n",
        "    filepaths = glob('{}/*'.format(folder))\n",
        "    for filepath in filepaths:\n",
        "      try:\n",
        "        img = cv2.cvtColor(cv2.imread(filepath), cv2.COLOR_BGR2RGB)\n",
        "        img = prepare(img) # 画像の前処理の部分を変更\n",
        "        x.append(img)\n",
        "        t.append(np.array(i, 'i'))\n",
        "      except Exception as e:\n",
        "        print(e, filepath, 'error')\n",
        "  return x, t"
      ],
      "execution_count": 0,
      "outputs": []
    },
    {
      "cell_type": "code",
      "metadata": {
        "id": "MSK63IRpydvS",
        "colab_type": "code",
        "colab": {}
      },
      "source": [
        "x, t = prepare_data_google(folders)"
      ],
      "execution_count": 0,
      "outputs": []
    },
    {
      "cell_type": "code",
      "metadata": {
        "id": "ViFJdwi1ydtk",
        "colab_type": "code",
        "colab": {}
      },
      "source": [
        "dataset = TupleDataset(x, t)"
      ],
      "execution_count": 0,
      "outputs": []
    },
    {
      "cell_type": "code",
      "metadata": {
        "id": "nsaMhNL-ydqO",
        "colab_type": "code",
        "colab": {}
      },
      "source": [
        "n_train = int(len(dataset)*0.8)\n",
        "train_val, test = split_dataset_random(dataset, n_train, seed=0)\n",
        "n_train = int(len(train_val)*0.7)\n",
        "train, valid = split_dataset_random(train_val, n_train, seed=0)"
      ],
      "execution_count": 0,
      "outputs": []
    },
    {
      "cell_type": "code",
      "metadata": {
        "id": "jIAPaW09zRS-",
        "colab_type": "code",
        "colab": {}
      },
      "source": [
        "class GoogleNet(chainer.Chain):\n",
        "\n",
        "    def __init__(self, n_out=3):\n",
        "        super().__init__()\n",
        "        with self.init_scope():\n",
        "            self.base = L.GoogLeNet()\n",
        "            self.fc = L.Linear(None, n_out)\n",
        "\n",
        "    def __call__(self, x):\n",
        "        h = self.base(x, layers=['pool5'])\n",
        "        h = self.fc(h['pool5'])\n",
        "        return h"
      ],
      "execution_count": 0,
      "outputs": []
    },
    {
      "cell_type": "code",
      "metadata": {
        "id": "1NszRpV6zRPu",
        "colab_type": "code",
        "colab": {}
      },
      "source": [
        "def reset_seed(seed=0):\n",
        "    random.seed(seed)\n",
        "    np.random.seed(seed)\n",
        "    if chainer.cuda.available:\n",
        "        chainer.cuda.cupy.random.seed(seed)"
      ],
      "execution_count": 0,
      "outputs": []
    },
    {
      "cell_type": "code",
      "metadata": {
        "id": "Ugl-1-2izRND",
        "colab_type": "code",
        "colab": {}
      },
      "source": [
        "reset_seed(0)"
      ],
      "execution_count": 0,
      "outputs": []
    },
    {
      "cell_type": "code",
      "metadata": {
        "id": "fp1afwiTzRLJ",
        "colab_type": "code",
        "outputId": "9c8493b9-b1cc-4ef8-e917-35971fb01871",
        "colab": {
          "base_uri": "https://localhost:8080/",
          "height": 34
        }
      },
      "source": [
        "gpu_id = 0\n",
        "model = L.Classifier(GoogleNet())\n",
        "model.to_gpu(gpu_id)"
      ],
      "execution_count": 131,
      "outputs": [
        {
          "output_type": "execute_result",
          "data": {
            "text/plain": [
              "<chainer.links.model.classifier.Classifier at 0x7f53a1ca0550>"
            ]
          },
          "metadata": {
            "tags": []
          },
          "execution_count": 131
        }
      ]
    },
    {
      "cell_type": "code",
      "metadata": {
        "id": "68Fl-kOTzRF3",
        "colab_type": "code",
        "colab": {}
      },
      "source": [
        "alpha = 1e-4\n",
        "\n",
        "optimizer = chainer.optimizers.Adam(alpha=alpha)\n",
        "optimizer.setup(model)\n",
        "\n",
        "model.predictor['fc'].W.update_rule.hyperparam.alpha = alpha * 10\n",
        "model.predictor['fc'].b.update_rule.hyperparam.alpha = alpha * 10"
      ],
      "execution_count": 0,
      "outputs": []
    },
    {
      "cell_type": "code",
      "metadata": {
        "id": "ti167fSozRCs",
        "colab_type": "code",
        "colab": {}
      },
      "source": [
        "batchsize = 30\n",
        "train_iter = chainer.iterators.SerialIterator(train, batchsize)\n",
        "valid_iter = chainer.iterators.SerialIterator(valid, batchsize, repeat=False, shuffle=False)"
      ],
      "execution_count": 0,
      "outputs": []
    },
    {
      "cell_type": "code",
      "metadata": {
        "id": "B8SrDpW0zQ_9",
        "colab_type": "code",
        "colab": {}
      },
      "source": [
        "epoch = 30\n",
        "updater = chainer.training.StandardUpdater(train_iter, optimizer, device=gpu_id)"
      ],
      "execution_count": 0,
      "outputs": []
    },
    {
      "cell_type": "code",
      "metadata": {
        "id": "PH6pGVhIydm_",
        "colab_type": "code",
        "colab": {}
      },
      "source": [
        "trainer = chainer.training.Trainer(updater, (epoch, 'epoch'), out='{}/result'.format(path))\n",
        "\n",
        "trainer.extend(extensions.Evaluator(valid_iter, model, device=gpu_id))\n",
        "trainer.extend(extensions.LogReport(log_name='log_gnet_finetune'))\n",
        "# trainer.extend(extensions.PrintReport(['epoch','elapsed_time','main/loss','validation/main/loss','main/accuracy']), trigger=(1,'epoch'))\n",
        "trainer.extend(extensions.PrintReport(['epoch', 'iteration', 'main/accuracy', 'validation/main/accuracy', 'main/loss', 'validation/main/loss', 'elapsed_time']), trigger=(1, 'epoch'))"
      ],
      "execution_count": 0,
      "outputs": []
    },
    {
      "cell_type": "code",
      "metadata": {
        "id": "E7JHPZke5NSz",
        "colab_type": "code",
        "outputId": "317ec66e-ea83-4b02-b648-6be4b7b73380",
        "colab": {
          "base_uri": "https://localhost:8080/",
          "height": 544
        }
      },
      "source": [
        "trainer.run()"
      ],
      "execution_count": 136,
      "outputs": [
        {
          "output_type": "stream",
          "text": [
            "epoch       iteration   main/accuracy  validation/main/accuracy  main/loss   validation/main/loss  elapsed_time\n",
            "\u001b[J1           4           0.508333       0.460606                  1.1691      0.974091              2.20353       \n",
            "\u001b[J2           8           0.7            0.645455                  0.673169    0.803403              2.83211       \n",
            "\u001b[J3           12          0.883333       0.701515                  0.314927    0.793297              3.46393       \n",
            "\u001b[J4           16          0.908333       0.718182                  0.252087    0.695839              4.09789       \n",
            "\u001b[J5           20          0.966667       0.757576                  0.139697    0.626903              4.72924       \n",
            "\u001b[J6           24          0.991667       0.780303                  0.0719497   0.662915              5.37794       \n",
            "\u001b[J7           28          0.991667       0.763636                  0.0430885   0.817112              6.01757       \n",
            "\u001b[J8           32          0.991667       0.757576                  0.0319976   0.776421              6.65257       \n",
            "\u001b[J9           36          0.991667       0.774242                  0.0255699   0.832001              7.28851       \n",
            "\u001b[J10          40          0.983333       0.757576                  0.0347835   0.969303              7.92889       \n",
            "\u001b[J11          44          1              0.780303                  0.00163807  1.1711                8.56604       \n",
            "\u001b[J12          48          0.983333       0.780303                  0.0467459   1.03227               9.20461       \n",
            "\u001b[J13          52          1              0.774242                  0.00627781  0.904311              9.84695       \n",
            "\u001b[J14          56          0.991667       0.790909                  0.0147705   0.871254              10.4831       \n",
            "\u001b[J15          59          0.988889       0.780303                  0.0173217   0.879023              10.9953       \n",
            "\u001b[J16          63          0.983333       0.780303                  0.0139106   0.905819              11.654        \n",
            "\u001b[J17          67          0.991667       0.780303                  0.0137446   0.913855              12.3044       \n",
            "\u001b[J18          71          0.991667       0.780303                  0.0130249   0.927713              12.9495       \n",
            "\u001b[J19          75          0.983333       0.780303                  0.0193197   0.924048              13.5925       \n",
            "\u001b[J20          79          0.991667       0.780303                  0.00671874  0.928365              14.2395       \n",
            "\u001b[J21          83          0.991667       0.780303                  0.0135678   0.959038              14.8828       \n",
            "\u001b[J22          87          0.991667       0.780303                  0.013902    0.968959              15.5303       \n",
            "\u001b[J23          91          0.991667       0.780303                  0.0177014   0.995437              16.1764       \n",
            "\u001b[J24          95          0.991667       0.780303                  0.00717531  1.03383               16.8262       \n",
            "\u001b[J25          99          0.991667       0.80303                   0.0139196   1.05349               17.49         \n",
            "\u001b[J26          103         0.991667       0.780303                  0.0133193   1.01713               18.1411       \n",
            "\u001b[J27          107         0.983333       0.774242                  0.0145919   0.975022              18.7925       \n",
            "\u001b[J28          111         0.991667       0.774242                  0.0140913   0.973083              19.4414       \n",
            "\u001b[J29          115         0.991667       0.757576                  0.0133943   1.01173               20.0969       \n",
            "\u001b[J30          118         0.988889       0.757576                  0.0157188   1.03061               20.6124       \n"
          ],
          "name": "stdout"
        }
      ]
    },
    {
      "cell_type": "code",
      "metadata": {
        "id": "y_Pjsi-r5NPq",
        "colab_type": "code",
        "outputId": "15094179-40bf-4079-bc16-b712e8aa5f55",
        "colab": {
          "base_uri": "https://localhost:8080/",
          "height": 204
        }
      },
      "source": [
        "import json\n",
        "import pandas as pd\n",
        "with open('{}/result/log_gnet_finetune'.format(path)) as f:\n",
        "  result = pd.DataFrame(json.load(f))\n",
        "result.tail(5)"
      ],
      "execution_count": 137,
      "outputs": [
        {
          "output_type": "execute_result",
          "data": {
            "text/html": [
              "<div>\n",
              "<style scoped>\n",
              "    .dataframe tbody tr th:only-of-type {\n",
              "        vertical-align: middle;\n",
              "    }\n",
              "\n",
              "    .dataframe tbody tr th {\n",
              "        vertical-align: top;\n",
              "    }\n",
              "\n",
              "    .dataframe thead th {\n",
              "        text-align: right;\n",
              "    }\n",
              "</style>\n",
              "<table border=\"1\" class=\"dataframe\">\n",
              "  <thead>\n",
              "    <tr style=\"text-align: right;\">\n",
              "      <th></th>\n",
              "      <th>elapsed_time</th>\n",
              "      <th>epoch</th>\n",
              "      <th>iteration</th>\n",
              "      <th>main/accuracy</th>\n",
              "      <th>main/loss</th>\n",
              "      <th>validation/main/accuracy</th>\n",
              "      <th>validation/main/loss</th>\n",
              "    </tr>\n",
              "  </thead>\n",
              "  <tbody>\n",
              "    <tr>\n",
              "      <th>25</th>\n",
              "      <td>18.141133</td>\n",
              "      <td>26</td>\n",
              "      <td>103</td>\n",
              "      <td>0.991667</td>\n",
              "      <td>0.013319</td>\n",
              "      <td>0.780303</td>\n",
              "      <td>1.017133</td>\n",
              "    </tr>\n",
              "    <tr>\n",
              "      <th>26</th>\n",
              "      <td>18.792457</td>\n",
              "      <td>27</td>\n",
              "      <td>107</td>\n",
              "      <td>0.983333</td>\n",
              "      <td>0.014592</td>\n",
              "      <td>0.774242</td>\n",
              "      <td>0.975022</td>\n",
              "    </tr>\n",
              "    <tr>\n",
              "      <th>27</th>\n",
              "      <td>19.441431</td>\n",
              "      <td>28</td>\n",
              "      <td>111</td>\n",
              "      <td>0.991667</td>\n",
              "      <td>0.014091</td>\n",
              "      <td>0.774242</td>\n",
              "      <td>0.973083</td>\n",
              "    </tr>\n",
              "    <tr>\n",
              "      <th>28</th>\n",
              "      <td>20.096935</td>\n",
              "      <td>29</td>\n",
              "      <td>115</td>\n",
              "      <td>0.991667</td>\n",
              "      <td>0.013394</td>\n",
              "      <td>0.757576</td>\n",
              "      <td>1.011732</td>\n",
              "    </tr>\n",
              "    <tr>\n",
              "      <th>29</th>\n",
              "      <td>20.612400</td>\n",
              "      <td>30</td>\n",
              "      <td>118</td>\n",
              "      <td>0.988889</td>\n",
              "      <td>0.015719</td>\n",
              "      <td>0.757576</td>\n",
              "      <td>1.030608</td>\n",
              "    </tr>\n",
              "  </tbody>\n",
              "</table>\n",
              "</div>"
            ],
            "text/plain": [
              "    elapsed_time  epoch  ...  validation/main/accuracy  validation/main/loss\n",
              "25     18.141133     26  ...                  0.780303              1.017133\n",
              "26     18.792457     27  ...                  0.774242              0.975022\n",
              "27     19.441431     28  ...                  0.774242              0.973083\n",
              "28     20.096935     29  ...                  0.757576              1.011732\n",
              "29     20.612400     30  ...                  0.757576              1.030608\n",
              "\n",
              "[5 rows x 7 columns]"
            ]
          },
          "metadata": {
            "tags": []
          },
          "execution_count": 137
        }
      ]
    },
    {
      "cell_type": "code",
      "metadata": {
        "id": "5aVu7O0H5NOC",
        "colab_type": "code",
        "outputId": "83ddd5f6-7cf1-42a4-96d0-916d268522dd",
        "colab": {
          "base_uri": "https://localhost:8080/",
          "height": 286
        }
      },
      "source": [
        "result[['main/accuracy','validation/main/accuracy']].plot()"
      ],
      "execution_count": 138,
      "outputs": [
        {
          "output_type": "execute_result",
          "data": {
            "text/plain": [
              "<matplotlib.axes._subplots.AxesSubplot at 0x7f53a1de0198>"
            ]
          },
          "metadata": {
            "tags": []
          },
          "execution_count": 138
        },
        {
          "output_type": "display_data",
          "data": {
            "image/png": "[encoded data removed]",
            "text/plain": [
              "<Figure size 432x288 with 1 Axes>"
            ]
          },
          "metadata": {
            "tags": []
          }
        }
      ]
    },
    {
      "cell_type": "code",
      "metadata": {
        "id": "hpDaGkiv5NKr",
        "colab_type": "code",
        "colab": {}
      },
      "source": [
        ""
      ],
      "execution_count": 0,
      "outputs": []
    },
    {
      "cell_type": "code",
      "metadata": {
        "id": "f3K8kK4r5NIf",
        "colab_type": "code",
        "colab": {}
      },
      "source": [
        ""
      ],
      "execution_count": 0,
      "outputs": []
    },
    {
      "cell_type": "code",
      "metadata": {
        "id": "qEjWy-EF5NFX",
        "colab_type": "code",
        "colab": {}
      },
      "source": [
        ""
      ],
      "execution_count": 0,
      "outputs": []
    },
    {
      "cell_type": "code",
      "metadata": {
        "id": "-bJCrNO35NDf",
        "colab_type": "code",
        "colab": {}
      },
      "source": [
        ""
      ],
      "execution_count": 0,
      "outputs": []
    },
    {
      "cell_type": "code",
      "metadata": {
        "id": "lfubc2GP5NAp",
        "colab_type": "code",
        "colab": {}
      },
      "source": [
        ""
      ],
      "execution_count": 0,
      "outputs": []
    }
  ]
}